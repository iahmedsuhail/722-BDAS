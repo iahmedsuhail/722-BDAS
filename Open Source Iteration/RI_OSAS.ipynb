{
 "cells": [
  {
   "cell_type": "code",
   "execution_count": 1,
   "metadata": {},
   "outputs": [
    {
     "name": "stderr",
     "output_type": "stream",
     "text": [
      "C:\\Users\\iahme\\Anaconda3\\lib\\site-packages\\IPython\\core\\interactiveshell.py:3057: DtypeWarning: Columns (6,17,18) have mixed types. Specify dtype option on import or set low_memory=False.\n",
      "  interactivity=interactivity, compiler=compiler, result=result)\n"
     ]
    },
    {
     "data": {
      "text/html": [
       "<div>\n",
       "<style scoped>\n",
       "    .dataframe tbody tr th:only-of-type {\n",
       "        vertical-align: middle;\n",
       "    }\n",
       "\n",
       "    .dataframe tbody tr th {\n",
       "        vertical-align: top;\n",
       "    }\n",
       "\n",
       "    .dataframe thead th {\n",
       "        text-align: right;\n",
       "    }\n",
       "</style>\n",
       "<table border=\"1\" class=\"dataframe\">\n",
       "  <thead>\n",
       "    <tr style=\"text-align: right;\">\n",
       "      <th></th>\n",
       "      <th>raw_row_number</th>\n",
       "      <th>date</th>\n",
       "      <th>time</th>\n",
       "      <th>zone</th>\n",
       "      <th>subject_race</th>\n",
       "      <th>subject_sex</th>\n",
       "      <th>department_id</th>\n",
       "      <th>type</th>\n",
       "      <th>arrest_made</th>\n",
       "      <th>citation_issued</th>\n",
       "      <th>...</th>\n",
       "      <th>contraband_weapons</th>\n",
       "      <th>contraband_alcohol</th>\n",
       "      <th>contraband_other</th>\n",
       "      <th>frisk_performed</th>\n",
       "      <th>search_conducted</th>\n",
       "      <th>search_basis</th>\n",
       "      <th>reason_for_search</th>\n",
       "      <th>reason_for_stop</th>\n",
       "      <th>vehicle_make</th>\n",
       "      <th>vehicle_model</th>\n",
       "    </tr>\n",
       "  </thead>\n",
       "  <tbody>\n",
       "    <tr>\n",
       "      <th>0</th>\n",
       "      <td>1</td>\n",
       "      <td>2005-11-22</td>\n",
       "      <td>11:15:00</td>\n",
       "      <td>X3</td>\n",
       "      <td>white</td>\n",
       "      <td>male</td>\n",
       "      <td>200</td>\n",
       "      <td>vehicular</td>\n",
       "      <td>False</td>\n",
       "      <td>True</td>\n",
       "      <td>...</td>\n",
       "      <td>NaN</td>\n",
       "      <td>NaN</td>\n",
       "      <td>False</td>\n",
       "      <td>False</td>\n",
       "      <td>False</td>\n",
       "      <td>NaN</td>\n",
       "      <td>NaN</td>\n",
       "      <td>Speeding</td>\n",
       "      <td>NaN</td>\n",
       "      <td>NaN</td>\n",
       "    </tr>\n",
       "    <tr>\n",
       "      <th>1</th>\n",
       "      <td>2</td>\n",
       "      <td>2005-10-01</td>\n",
       "      <td>12:20:00</td>\n",
       "      <td>X3</td>\n",
       "      <td>white</td>\n",
       "      <td>male</td>\n",
       "      <td>200</td>\n",
       "      <td>vehicular</td>\n",
       "      <td>False</td>\n",
       "      <td>True</td>\n",
       "      <td>...</td>\n",
       "      <td>NaN</td>\n",
       "      <td>NaN</td>\n",
       "      <td>False</td>\n",
       "      <td>False</td>\n",
       "      <td>False</td>\n",
       "      <td>NaN</td>\n",
       "      <td>NaN</td>\n",
       "      <td>Speeding</td>\n",
       "      <td>NaN</td>\n",
       "      <td>NaN</td>\n",
       "    </tr>\n",
       "    <tr>\n",
       "      <th>2</th>\n",
       "      <td>3</td>\n",
       "      <td>2005-10-01</td>\n",
       "      <td>12:30:00</td>\n",
       "      <td>X3</td>\n",
       "      <td>white</td>\n",
       "      <td>female</td>\n",
       "      <td>200</td>\n",
       "      <td>vehicular</td>\n",
       "      <td>False</td>\n",
       "      <td>True</td>\n",
       "      <td>...</td>\n",
       "      <td>NaN</td>\n",
       "      <td>NaN</td>\n",
       "      <td>False</td>\n",
       "      <td>False</td>\n",
       "      <td>False</td>\n",
       "      <td>NaN</td>\n",
       "      <td>NaN</td>\n",
       "      <td>Speeding</td>\n",
       "      <td>NaN</td>\n",
       "      <td>NaN</td>\n",
       "    </tr>\n",
       "    <tr>\n",
       "      <th>3</th>\n",
       "      <td>4</td>\n",
       "      <td>2005-10-01</td>\n",
       "      <td>12:50:00</td>\n",
       "      <td>X3</td>\n",
       "      <td>white</td>\n",
       "      <td>male</td>\n",
       "      <td>200</td>\n",
       "      <td>vehicular</td>\n",
       "      <td>False</td>\n",
       "      <td>True</td>\n",
       "      <td>...</td>\n",
       "      <td>NaN</td>\n",
       "      <td>NaN</td>\n",
       "      <td>False</td>\n",
       "      <td>False</td>\n",
       "      <td>False</td>\n",
       "      <td>NaN</td>\n",
       "      <td>NaN</td>\n",
       "      <td>Speeding</td>\n",
       "      <td>NaN</td>\n",
       "      <td>NaN</td>\n",
       "    </tr>\n",
       "    <tr>\n",
       "      <th>4</th>\n",
       "      <td>5</td>\n",
       "      <td>2005-10-01</td>\n",
       "      <td>13:10:00</td>\n",
       "      <td>X3</td>\n",
       "      <td>white</td>\n",
       "      <td>female</td>\n",
       "      <td>200</td>\n",
       "      <td>vehicular</td>\n",
       "      <td>False</td>\n",
       "      <td>True</td>\n",
       "      <td>...</td>\n",
       "      <td>NaN</td>\n",
       "      <td>NaN</td>\n",
       "      <td>False</td>\n",
       "      <td>False</td>\n",
       "      <td>False</td>\n",
       "      <td>NaN</td>\n",
       "      <td>NaN</td>\n",
       "      <td>Speeding</td>\n",
       "      <td>NaN</td>\n",
       "      <td>NaN</td>\n",
       "    </tr>\n",
       "  </tbody>\n",
       "</table>\n",
       "<p>5 rows × 24 columns</p>\n",
       "</div>"
      ],
      "text/plain": [
       "   raw_row_number        date      time zone subject_race subject_sex  \\\n",
       "0               1  2005-11-22  11:15:00   X3        white        male   \n",
       "1               2  2005-10-01  12:20:00   X3        white        male   \n",
       "2               3  2005-10-01  12:30:00   X3        white      female   \n",
       "3               4  2005-10-01  12:50:00   X3        white        male   \n",
       "4               5  2005-10-01  13:10:00   X3        white      female   \n",
       "\n",
       "  department_id       type arrest_made citation_issued  ...  \\\n",
       "0           200  vehicular       False            True  ...   \n",
       "1           200  vehicular       False            True  ...   \n",
       "2           200  vehicular       False            True  ...   \n",
       "3           200  vehicular       False            True  ...   \n",
       "4           200  vehicular       False            True  ...   \n",
       "\n",
       "  contraband_weapons contraband_alcohol contraband_other frisk_performed  \\\n",
       "0                NaN                NaN            False           False   \n",
       "1                NaN                NaN            False           False   \n",
       "2                NaN                NaN            False           False   \n",
       "3                NaN                NaN            False           False   \n",
       "4                NaN                NaN            False           False   \n",
       "\n",
       "  search_conducted search_basis  reason_for_search reason_for_stop  \\\n",
       "0            False          NaN                NaN        Speeding   \n",
       "1            False          NaN                NaN        Speeding   \n",
       "2            False          NaN                NaN        Speeding   \n",
       "3            False          NaN                NaN        Speeding   \n",
       "4            False          NaN                NaN        Speeding   \n",
       "\n",
       "  vehicle_make vehicle_model  \n",
       "0          NaN           NaN  \n",
       "1          NaN           NaN  \n",
       "2          NaN           NaN  \n",
       "3          NaN           NaN  \n",
       "4          NaN           NaN  \n",
       "\n",
       "[5 rows x 24 columns]"
      ]
     },
     "execution_count": 1,
     "metadata": {},
     "output_type": "execute_result"
    }
   ],
   "source": [
    "import pandas as pd \n",
    "ri = pd.read_csv(r'C:\\Users\\iahme\\Documents\\722\\Rhode Island Statewise Dataset\\share\\data\\opp-for-archive\\ri_statewide_2019_02_25.csv')\n",
    "ri.head()"
   ]
  },
  {
   "cell_type": "code",
   "execution_count": 2,
   "metadata": {},
   "outputs": [
    {
     "data": {
      "text/plain": [
       "(509681, 24)"
      ]
     },
     "execution_count": 2,
     "metadata": {},
     "output_type": "execute_result"
    }
   ],
   "source": [
    "ri.shape"
   ]
  },
  {
   "cell_type": "code",
   "execution_count": 3,
   "metadata": {},
   "outputs": [
    {
     "data": {
      "text/plain": [
       "raw_row_number             0\n",
       "date                      10\n",
       "time                      10\n",
       "zone                      10\n",
       "subject_race           29073\n",
       "subject_sex            29097\n",
       "department_id             10\n",
       "type                       0\n",
       "arrest_made            29073\n",
       "citation_issued        29073\n",
       "warning_issued         29073\n",
       "outcome                35841\n",
       "contraband_found      491919\n",
       "contraband_drugs      493693\n",
       "contraband_weapons    497886\n",
       "contraband_alcohol    508464\n",
       "contraband_other           0\n",
       "frisk_performed           10\n",
       "search_conducted          10\n",
       "search_basis          491919\n",
       "reason_for_search     491919\n",
       "reason_for_stop        29073\n",
       "vehicle_make          191564\n",
       "vehicle_model         279593\n",
       "dtype: int64"
      ]
     },
     "execution_count": 3,
     "metadata": {},
     "output_type": "execute_result"
    }
   ],
   "source": [
    "ri.isnull().sum()"
   ]
  },
  {
   "cell_type": "code",
   "execution_count": 4,
   "metadata": {},
   "outputs": [],
   "source": [
    "ri.dropna(subset=['subject_sex'], inplace=True)"
   ]
  },
  {
   "cell_type": "code",
   "execution_count": 5,
   "metadata": {},
   "outputs": [
    {
     "data": {
      "text/plain": [
       "raw_row_number             0\n",
       "date                       0\n",
       "time                       0\n",
       "zone                       0\n",
       "subject_race               0\n",
       "subject_sex                0\n",
       "department_id              0\n",
       "type                       0\n",
       "arrest_made                0\n",
       "citation_issued            0\n",
       "warning_issued             0\n",
       "outcome                 6763\n",
       "contraband_found      462822\n",
       "contraband_drugs      464596\n",
       "contraband_weapons    468789\n",
       "contraband_alcohol    479367\n",
       "contraband_other           0\n",
       "frisk_performed            0\n",
       "search_conducted           0\n",
       "search_basis          462822\n",
       "reason_for_search     462822\n",
       "reason_for_stop            0\n",
       "vehicle_make          162525\n",
       "vehicle_model         250553\n",
       "dtype: int64"
      ]
     },
     "execution_count": 5,
     "metadata": {},
     "output_type": "execute_result"
    }
   ],
   "source": [
    "ri.isnull().sum()"
   ]
  },
  {
   "cell_type": "code",
   "execution_count": 6,
   "metadata": {},
   "outputs": [
    {
     "data": {
      "text/plain": [
       "raw_row_number         int64\n",
       "date                  object\n",
       "time                  object\n",
       "zone                  object\n",
       "subject_race          object\n",
       "subject_sex           object\n",
       "department_id         object\n",
       "type                  object\n",
       "arrest_made           object\n",
       "citation_issued       object\n",
       "warning_issued        object\n",
       "outcome               object\n",
       "contraband_found      object\n",
       "contraband_drugs      object\n",
       "contraband_weapons    object\n",
       "contraband_alcohol    object\n",
       "contraband_other        bool\n",
       "frisk_performed       object\n",
       "search_conducted      object\n",
       "search_basis          object\n",
       "reason_for_search     object\n",
       "reason_for_stop       object\n",
       "vehicle_make          object\n",
       "vehicle_model         object\n",
       "dtype: object"
      ]
     },
     "execution_count": 6,
     "metadata": {},
     "output_type": "execute_result"
    }
   ],
   "source": [
    "ri.dtypes"
   ]
  },
  {
   "cell_type": "code",
   "execution_count": 7,
   "metadata": {},
   "outputs": [],
   "source": [
    "ri['subject_sex'] = ri.subject_sex.astype('category')\n",
    "ri['subject_race'] = ri.subject_race.astype('category')\n",
    "ri['arrest_made'] = ri.arrest_made.astype('bool')\n",
    "ri['citation_issued'] = ri.citation_issued.astype('bool')\n",
    "ri['warning_issued'] = ri.warning_issued.astype('bool')\n",
    "ri['frisk_performed'] = ri.frisk_performed.astype('bool')\n",
    "ri['reason_for_stop'] = ri.reason_for_stop.astype('category')\n",
    "ri['search_conducted'] = ri.search_conducted.astype('bool')\n",
    "ri['contraband_found'] = ri.search_conducted.astype('bool')"
   ]
  },
  {
   "cell_type": "code",
   "execution_count": 8,
   "metadata": {},
   "outputs": [
    {
     "name": "stdout",
     "output_type": "stream",
     "text": [
      "reason_for_stop                   subject_sex\n",
      "APB                               female         0.165138\n",
      "                                  male           0.255319\n",
      "Call for Service                  female         0.042230\n",
      "                                  male           0.092419\n",
      "Equipment/Inspection Violation    female         0.040245\n",
      "                                  male           0.070916\n",
      "Motorist Assist/Courtesy          female         0.033133\n",
      "                                  male           0.089802\n",
      "Other Traffic Violation           female         0.038021\n",
      "                                  male           0.059156\n",
      "Registration Violation            female         0.054700\n",
      "                                  male           0.103589\n",
      "Seatbelt Violation                female         0.017746\n",
      "                                  male           0.031705\n",
      "Special Detail/Directed Patrol    female         0.018045\n",
      "                                  male           0.010249\n",
      "Speeding                          female         0.007738\n",
      "                                  male           0.026630\n",
      "Suspicious Person                 female         0.216216\n",
      "                                  male           0.305970\n",
      "Violation of City/Town Ordinance  female         0.060185\n",
      "                                  male           0.073171\n",
      "Warrant                           female         0.148148\n",
      "                                  male           0.311111\n",
      "Name: search_conducted, dtype: float64\n"
     ]
    }
   ],
   "source": [
    "print(ri.groupby(['reason_for_stop', 'subject_sex']).search_conducted.mean())"
   ]
  },
  {
   "cell_type": "code",
   "execution_count": 9,
   "metadata": {},
   "outputs": [
    {
     "name": "stdout",
     "output_type": "stream",
     "text": [
      "zone  subject_sex\n",
      "K1    female         0.016528\n",
      "      male           0.038785\n",
      "K2    female         0.013018\n",
      "      male           0.031662\n",
      "K3    female         0.023989\n",
      "      male           0.052726\n",
      "X1    female         0.005181\n",
      "      male           0.013020\n",
      "X3    female         0.013057\n",
      "      male           0.030472\n",
      "X4    female         0.026174\n",
      "      male           0.059040\n",
      "Name: search_conducted, dtype: float64\n"
     ]
    }
   ],
   "source": [
    "print(ri.groupby(['zone', 'subject_sex']).search_conducted.mean())"
   ]
  },
  {
   "cell_type": "code",
   "execution_count": 10,
   "metadata": {},
   "outputs": [
    {
     "name": "stdout",
     "output_type": "stream",
     "text": [
      "bool\n",
      "False    0.963041\n",
      "True     0.036959\n",
      "Name: search_conducted, dtype: float64\n",
      "0.036959199640437465\n"
     ]
    }
   ],
   "source": [
    "#Check the data type of 'search_conducted'\n",
    "print(ri.search_conducted.dtype)\n",
    "\n",
    "#Calculate the search rate by counting the values\n",
    "print(ri.search_conducted.value_counts(normalize = True))\n",
    "\n",
    "#Calculate the search rate by taking the mean\n",
    "print(ri.search_conducted.mean())"
   ]
  },
  {
   "cell_type": "code",
   "execution_count": 11,
   "metadata": {},
   "outputs": [
    {
     "name": "stdout",
     "output_type": "stream",
     "text": [
      "female = 0.018751239152648355\n",
      "male = 0.04379217389811301\n"
     ]
    }
   ],
   "source": [
    "#Search rate for female and male drivers\n",
    "print('female = ' + str(ri[ri.subject_sex == 'female'].search_conducted.mean()))\n",
    "print('male = ' + str(ri[ri.subject_sex == 'male'].search_conducted.mean()))"
   ]
  },
  {
   "cell_type": "code",
   "execution_count": 12,
   "metadata": {},
   "outputs": [
    {
     "name": "stdout",
     "output_type": "stream",
     "text": [
      "mean of frisk performed = 0.5248282851030289\n",
      "subject_sex\n",
      "female    0.437983\n",
      "male      0.538783\n",
      "Name: frisk_performed, dtype: float64\n"
     ]
    }
   ],
   "source": [
    "#Create a DataFrame of stops in which a search was conducted\n",
    "searched = ri[ri.search_conducted == True]\n",
    "\n",
    "#Calculate the overall frisk rate by taking the mean of 'frisk'\n",
    "print('mean of frisk performed = ' + str(searched.frisk_performed.mean()))\n",
    "\n",
    "#Calculate the frisk rate for each gender\n",
    "print(searched.groupby('subject_sex').frisk_performed.mean())"
   ]
  },
  {
   "cell_type": "code",
   "execution_count": 13,
   "metadata": {},
   "outputs": [
    {
     "name": "stdout",
     "output_type": "stream",
     "text": [
      "citation    0.954609\n",
      "warning     0.039059\n",
      "arrest      0.006332\n",
      "Name: outcome, dtype: float64\n",
      "citation    0.946763\n",
      "warning     0.036167\n",
      "arrest      0.017070\n",
      "Name: outcome, dtype: float64\n"
     ]
    }
   ],
   "source": [
    "#COMPARING SPEEDING OUTCOMES BY SEX\n",
    "\n",
    "#Create a DataFrame of female drivers stopped for speeding\n",
    "female_and_speeding = ri[(ri.subject_sex == 'female') & (ri.reason_for_stop == 'Speeding')]\n",
    "\n",
    "#Create a DataFrame of male drivers stopped for speeding\n",
    "male_and_speeding = ri[(ri.subject_sex == 'male') & (ri.reason_for_stop == 'Speeding')]\n",
    "\n",
    "#Compute the stop outcomes for female drivers (as proportions)\n",
    "print(female_and_speeding.outcome.value_counts(normalize=True))\n",
    "\n",
    "#Compute the stop outcomes for male drivers (as proportions)\n",
    "print(male_and_speeding.outcome.value_counts(normalize=True))"
   ]
  },
  {
   "cell_type": "code",
   "execution_count": 14,
   "metadata": {},
   "outputs": [],
   "source": [
    "ri.drop(['vehicle_model', 'vehicle_make', 'contraband_other', 'outcome', 'warning_issued', 'citation_issued', 'type', 'time', 'raw_row_number', 'contraband_drugs', 'contraband_weapons', 'contraband_alcohol', 'search_basis', 'reason_for_search', 'department_id'], axis=1, inplace=True)"
   ]
  },
  {
   "cell_type": "code",
   "execution_count": 15,
   "metadata": {},
   "outputs": [
    {
     "data": {
      "text/plain": [
       "date                  object\n",
       "zone                  object\n",
       "subject_race        category\n",
       "subject_sex         category\n",
       "arrest_made             bool\n",
       "contraband_found        bool\n",
       "frisk_performed         bool\n",
       "search_conducted        bool\n",
       "reason_for_stop     category\n",
       "dtype: object"
      ]
     },
     "execution_count": 15,
     "metadata": {},
     "output_type": "execute_result"
    }
   ],
   "source": [
    "ri.dtypes"
   ]
  },
  {
   "cell_type": "code",
   "execution_count": 16,
   "metadata": {},
   "outputs": [
    {
     "data": {
      "text/html": [
       "<div>\n",
       "<style scoped>\n",
       "    .dataframe tbody tr th:only-of-type {\n",
       "        vertical-align: middle;\n",
       "    }\n",
       "\n",
       "    .dataframe tbody tr th {\n",
       "        vertical-align: top;\n",
       "    }\n",
       "\n",
       "    .dataframe thead th {\n",
       "        text-align: right;\n",
       "    }\n",
       "</style>\n",
       "<table border=\"1\" class=\"dataframe\">\n",
       "  <thead>\n",
       "    <tr style=\"text-align: right;\">\n",
       "      <th></th>\n",
       "      <th>date</th>\n",
       "      <th>zone</th>\n",
       "      <th>subject_race</th>\n",
       "      <th>subject_sex</th>\n",
       "      <th>arrest_made</th>\n",
       "      <th>contraband_found</th>\n",
       "      <th>frisk_performed</th>\n",
       "      <th>search_conducted</th>\n",
       "      <th>reason_for_stop</th>\n",
       "    </tr>\n",
       "  </thead>\n",
       "  <tbody>\n",
       "    <tr>\n",
       "      <th>0</th>\n",
       "      <td>2005-11-22</td>\n",
       "      <td>X3</td>\n",
       "      <td>white</td>\n",
       "      <td>male</td>\n",
       "      <td>False</td>\n",
       "      <td>False</td>\n",
       "      <td>False</td>\n",
       "      <td>False</td>\n",
       "      <td>Speeding</td>\n",
       "    </tr>\n",
       "    <tr>\n",
       "      <th>1</th>\n",
       "      <td>2005-10-01</td>\n",
       "      <td>X3</td>\n",
       "      <td>white</td>\n",
       "      <td>male</td>\n",
       "      <td>False</td>\n",
       "      <td>False</td>\n",
       "      <td>False</td>\n",
       "      <td>False</td>\n",
       "      <td>Speeding</td>\n",
       "    </tr>\n",
       "    <tr>\n",
       "      <th>2</th>\n",
       "      <td>2005-10-01</td>\n",
       "      <td>X3</td>\n",
       "      <td>white</td>\n",
       "      <td>female</td>\n",
       "      <td>False</td>\n",
       "      <td>False</td>\n",
       "      <td>False</td>\n",
       "      <td>False</td>\n",
       "      <td>Speeding</td>\n",
       "    </tr>\n",
       "    <tr>\n",
       "      <th>3</th>\n",
       "      <td>2005-10-01</td>\n",
       "      <td>X3</td>\n",
       "      <td>white</td>\n",
       "      <td>male</td>\n",
       "      <td>False</td>\n",
       "      <td>False</td>\n",
       "      <td>False</td>\n",
       "      <td>False</td>\n",
       "      <td>Speeding</td>\n",
       "    </tr>\n",
       "    <tr>\n",
       "      <th>4</th>\n",
       "      <td>2005-10-01</td>\n",
       "      <td>X3</td>\n",
       "      <td>white</td>\n",
       "      <td>female</td>\n",
       "      <td>False</td>\n",
       "      <td>False</td>\n",
       "      <td>False</td>\n",
       "      <td>False</td>\n",
       "      <td>Speeding</td>\n",
       "    </tr>\n",
       "  </tbody>\n",
       "</table>\n",
       "</div>"
      ],
      "text/plain": [
       "         date zone subject_race subject_sex  arrest_made  contraband_found  \\\n",
       "0  2005-11-22   X3        white        male        False             False   \n",
       "1  2005-10-01   X3        white        male        False             False   \n",
       "2  2005-10-01   X3        white      female        False             False   \n",
       "3  2005-10-01   X3        white        male        False             False   \n",
       "4  2005-10-01   X3        white      female        False             False   \n",
       "\n",
       "   frisk_performed  search_conducted reason_for_stop  \n",
       "0            False             False        Speeding  \n",
       "1            False             False        Speeding  \n",
       "2            False             False        Speeding  \n",
       "3            False             False        Speeding  \n",
       "4            False             False        Speeding  "
      ]
     },
     "execution_count": 16,
     "metadata": {},
     "output_type": "execute_result"
    }
   ],
   "source": [
    "#Create and show a dataframe where frisk was performed\n",
    "ri2 = pd.DataFrame(ri)\n",
    "ri2.head()"
   ]
  },
  {
   "cell_type": "code",
   "execution_count": 17,
   "metadata": {},
   "outputs": [
    {
     "data": {
      "text/html": [
       "<div>\n",
       "<style scoped>\n",
       "    .dataframe tbody tr th:only-of-type {\n",
       "        vertical-align: middle;\n",
       "    }\n",
       "\n",
       "    .dataframe tbody tr th {\n",
       "        vertical-align: top;\n",
       "    }\n",
       "\n",
       "    .dataframe thead th {\n",
       "        text-align: right;\n",
       "    }\n",
       "</style>\n",
       "<table border=\"1\" class=\"dataframe\">\n",
       "  <thead>\n",
       "    <tr style=\"text-align: right;\">\n",
       "      <th></th>\n",
       "      <th>date</th>\n",
       "      <th>zone</th>\n",
       "      <th>subject_race</th>\n",
       "      <th>subject_sex</th>\n",
       "      <th>arrest_made</th>\n",
       "      <th>contraband_found</th>\n",
       "      <th>frisk_performed</th>\n",
       "      <th>search_conducted</th>\n",
       "      <th>reason_for_stop</th>\n",
       "    </tr>\n",
       "  </thead>\n",
       "  <tbody>\n",
       "    <tr>\n",
       "      <th>0</th>\n",
       "      <td>112</td>\n",
       "      <td>4</td>\n",
       "      <td>4</td>\n",
       "      <td>1</td>\n",
       "      <td>False</td>\n",
       "      <td>False</td>\n",
       "      <td>False</td>\n",
       "      <td>False</td>\n",
       "      <td>8</td>\n",
       "    </tr>\n",
       "    <tr>\n",
       "      <th>1</th>\n",
       "      <td>60</td>\n",
       "      <td>4</td>\n",
       "      <td>4</td>\n",
       "      <td>1</td>\n",
       "      <td>False</td>\n",
       "      <td>False</td>\n",
       "      <td>False</td>\n",
       "      <td>False</td>\n",
       "      <td>8</td>\n",
       "    </tr>\n",
       "    <tr>\n",
       "      <th>2</th>\n",
       "      <td>60</td>\n",
       "      <td>4</td>\n",
       "      <td>4</td>\n",
       "      <td>0</td>\n",
       "      <td>False</td>\n",
       "      <td>False</td>\n",
       "      <td>False</td>\n",
       "      <td>False</td>\n",
       "      <td>8</td>\n",
       "    </tr>\n",
       "    <tr>\n",
       "      <th>3</th>\n",
       "      <td>60</td>\n",
       "      <td>4</td>\n",
       "      <td>4</td>\n",
       "      <td>1</td>\n",
       "      <td>False</td>\n",
       "      <td>False</td>\n",
       "      <td>False</td>\n",
       "      <td>False</td>\n",
       "      <td>8</td>\n",
       "    </tr>\n",
       "    <tr>\n",
       "      <th>4</th>\n",
       "      <td>60</td>\n",
       "      <td>4</td>\n",
       "      <td>4</td>\n",
       "      <td>0</td>\n",
       "      <td>False</td>\n",
       "      <td>False</td>\n",
       "      <td>False</td>\n",
       "      <td>False</td>\n",
       "      <td>8</td>\n",
       "    </tr>\n",
       "  </tbody>\n",
       "</table>\n",
       "</div>"
      ],
      "text/plain": [
       "   date  zone  subject_race  subject_sex  arrest_made  contraband_found  \\\n",
       "0   112     4             4            1        False             False   \n",
       "1    60     4             4            1        False             False   \n",
       "2    60     4             4            0        False             False   \n",
       "3    60     4             4            1        False             False   \n",
       "4    60     4             4            0        False             False   \n",
       "\n",
       "   frisk_performed  search_conducted  reason_for_stop  \n",
       "0            False             False                8  \n",
       "1            False             False                8  \n",
       "2            False             False                8  \n",
       "3            False             False                8  \n",
       "4            False             False                8  "
      ]
     },
     "execution_count": 17,
     "metadata": {},
     "output_type": "execute_result"
    }
   ],
   "source": [
    "#Label Encoding\n",
    "from sklearn import preprocessing\n",
    "\n",
    "#create the LabelEncoder object\n",
    "le = preprocessing.LabelEncoder()\n",
    "\n",
    "#convert the categorical columns into numeric\n",
    "ri2['date'] = le.fit_transform(ri2['date'])\n",
    "ri2['zone'] = le.fit_transform(ri2['zone'])\n",
    "ri2['subject_race'] = le.fit_transform(ri2['subject_race'])\n",
    "ri2['subject_sex'] = le.fit_transform(ri2['subject_sex'])\n",
    "ri2['reason_for_stop'] = le.fit_transform(ri2['reason_for_stop'])\n",
    "\n",
    "\n",
    "#display the initial records\n",
    "ri2.head()"
   ]
  },
  {
   "cell_type": "code",
   "execution_count": 18,
   "metadata": {},
   "outputs": [
    {
     "data": {
      "text/plain": [
       "(480584, 9)"
      ]
     },
     "execution_count": 18,
     "metadata": {},
     "output_type": "execute_result"
    }
   ],
   "source": [
    "ri2.shape"
   ]
  },
  {
   "cell_type": "code",
   "execution_count": 19,
   "metadata": {},
   "outputs": [],
   "source": [
    "#Drop linearly related values for LR\n",
    "ri2.drop(['frisk_performed', 'search_conducted'], axis=1, inplace=True)"
   ]
  },
  {
   "cell_type": "code",
   "execution_count": 20,
   "metadata": {},
   "outputs": [],
   "source": [
    "from sklearn.model_selection import train_test_split\n",
    "\n",
    "y = ri2['contraband_found'].values\n",
    "X = ri2.drop('contraband_found', axis=1).values #Drop values linearly related also\n",
    "\n",
    "X_train, X_test, y_train, y_test = train_test_split(X, y, test_size=0.3, random_state=100)"
   ]
  },
  {
   "cell_type": "code",
   "execution_count": 21,
   "metadata": {},
   "outputs": [
    {
     "name": "stderr",
     "output_type": "stream",
     "text": [
      "C:\\Users\\iahme\\Anaconda3\\lib\\site-packages\\sklearn\\linear_model\\logistic.py:432: FutureWarning: Default solver will be changed to 'lbfgs' in 0.22. Specify a solver to silence this warning.\n",
      "  FutureWarning)\n"
     ]
    }
   ],
   "source": [
    "#Logistic regression\n",
    "from sklearn.linear_model import LogisticRegression\n",
    "\n",
    "# instantiate the model (using the default parameters)\n",
    "logreg = LogisticRegression()\n",
    "\n",
    "#fit the model with data\n",
    "logreg.fit(X_train,y_train)\n",
    "\n",
    "#Predictions\n",
    "y_pred=logreg.predict(X_test)"
   ]
  },
  {
   "cell_type": "code",
   "execution_count": 22,
   "metadata": {},
   "outputs": [
    {
     "name": "stdout",
     "output_type": "stream",
     "text": [
      "Accuracy: 0.9633989013428033\n",
      "Precision: 0.45314505776636715\n",
      "Recall: 0.06783243658724059\n"
     ]
    }
   ],
   "source": [
    "#Model Evaluation\n",
    "\n",
    "from sklearn import metrics\n",
    "\n",
    "print(\"Accuracy:\", metrics.accuracy_score(y_test, y_pred))\n",
    "print(\"Precision:\", metrics.precision_score(y_test, y_pred))\n",
    "print(\"Recall:\", metrics.recall_score(y_test, y_pred))"
   ]
  },
  {
   "cell_type": "code",
   "execution_count": 23,
   "metadata": {},
   "outputs": [
    {
     "data": {
      "text/plain": [
       "array([[-2.23173814e-04, -1.10745421e-02, -1.74829490e-01,\n",
       "         6.40523796e-01,  2.78508645e+00, -1.56715692e-01]])"
      ]
     },
     "execution_count": 23,
     "metadata": {},
     "output_type": "execute_result"
    }
   ],
   "source": [
    "#Check confidence values in equation of LR\n",
    "logreg.coef_"
   ]
  },
  {
   "cell_type": "code",
   "execution_count": 24,
   "metadata": {},
   "outputs": [
    {
     "data": {
      "text/plain": [
       "array([[ 0.99977685,  0.98898655,  0.83960017,  1.89747451, 16.20121837,\n",
       "         0.85494709]])"
      ]
     },
     "execution_count": 24,
     "metadata": {},
     "output_type": "execute_result"
    }
   ],
   "source": [
    "#Calculate the Odds Ratio\n",
    "import numpy as np \n",
    "np.exp(logreg.coef_)"
   ]
  },
  {
   "cell_type": "code",
   "execution_count": 25,
   "metadata": {},
   "outputs": [
    {
     "data": {
      "text/html": [
       "<div>\n",
       "<style scoped>\n",
       "    .dataframe tbody tr th:only-of-type {\n",
       "        vertical-align: middle;\n",
       "    }\n",
       "\n",
       "    .dataframe tbody tr th {\n",
       "        vertical-align: top;\n",
       "    }\n",
       "\n",
       "    .dataframe thead th {\n",
       "        text-align: right;\n",
       "    }\n",
       "</style>\n",
       "<table border=\"1\" class=\"dataframe\">\n",
       "  <thead>\n",
       "    <tr style=\"text-align: right;\">\n",
       "      <th></th>\n",
       "      <th>date</th>\n",
       "      <th>zone</th>\n",
       "      <th>subject_race</th>\n",
       "      <th>subject_sex</th>\n",
       "      <th>arrest_made</th>\n",
       "      <th>contraband_found</th>\n",
       "      <th>reason_for_stop</th>\n",
       "    </tr>\n",
       "  </thead>\n",
       "  <tbody>\n",
       "    <tr>\n",
       "      <th>0</th>\n",
       "      <td>112</td>\n",
       "      <td>4</td>\n",
       "      <td>4</td>\n",
       "      <td>1</td>\n",
       "      <td>False</td>\n",
       "      <td>False</td>\n",
       "      <td>8</td>\n",
       "    </tr>\n",
       "    <tr>\n",
       "      <th>1</th>\n",
       "      <td>60</td>\n",
       "      <td>4</td>\n",
       "      <td>4</td>\n",
       "      <td>1</td>\n",
       "      <td>False</td>\n",
       "      <td>False</td>\n",
       "      <td>8</td>\n",
       "    </tr>\n",
       "    <tr>\n",
       "      <th>2</th>\n",
       "      <td>60</td>\n",
       "      <td>4</td>\n",
       "      <td>4</td>\n",
       "      <td>0</td>\n",
       "      <td>False</td>\n",
       "      <td>False</td>\n",
       "      <td>8</td>\n",
       "    </tr>\n",
       "    <tr>\n",
       "      <th>3</th>\n",
       "      <td>60</td>\n",
       "      <td>4</td>\n",
       "      <td>4</td>\n",
       "      <td>1</td>\n",
       "      <td>False</td>\n",
       "      <td>False</td>\n",
       "      <td>8</td>\n",
       "    </tr>\n",
       "    <tr>\n",
       "      <th>4</th>\n",
       "      <td>60</td>\n",
       "      <td>4</td>\n",
       "      <td>4</td>\n",
       "      <td>0</td>\n",
       "      <td>False</td>\n",
       "      <td>False</td>\n",
       "      <td>8</td>\n",
       "    </tr>\n",
       "  </tbody>\n",
       "</table>\n",
       "</div>"
      ],
      "text/plain": [
       "   date  zone  subject_race  subject_sex  arrest_made  contraband_found  \\\n",
       "0   112     4             4            1        False             False   \n",
       "1    60     4             4            1        False             False   \n",
       "2    60     4             4            0        False             False   \n",
       "3    60     4             4            1        False             False   \n",
       "4    60     4             4            0        False             False   \n",
       "\n",
       "   reason_for_stop  \n",
       "0                8  \n",
       "1                8  \n",
       "2                8  \n",
       "3                8  \n",
       "4                8  "
      ]
     },
     "execution_count": 25,
     "metadata": {},
     "output_type": "execute_result"
    }
   ],
   "source": [
    "#Run head to verify negative relationship with what\n",
    "ri2.head()"
   ]
  },
  {
   "cell_type": "code",
   "execution_count": 26,
   "metadata": {},
   "outputs": [],
   "source": [
    "#Unsupervised learning using KMeans\n",
    "\n",
    "from sklearn.cluster import KMeans\n",
    "\n",
    "model = KMeans(n_clusters = 2)\n",
    "model.fit(ri)\n",
    "\n",
    "labels = model.predict(ri) #Predict on the same data"
   ]
  },
  {
   "cell_type": "code",
   "execution_count": 27,
   "metadata": {},
   "outputs": [
    {
     "name": "stdout",
     "output_type": "stream",
     "text": [
      "        labels  Arrested or not\n",
      "0            0            False\n",
      "1            0            False\n",
      "2            0            False\n",
      "3            0            False\n",
      "4            0            False\n",
      "5            0            False\n",
      "6            0            False\n",
      "7            0            False\n",
      "8            0            False\n",
      "9            0            False\n",
      "10           0            False\n",
      "11           0            False\n",
      "12           0            False\n",
      "13           0            False\n",
      "14           0            False\n",
      "15           0            False\n",
      "16           0            False\n",
      "17           0            False\n",
      "18           0            False\n",
      "19           0            False\n",
      "20           0            False\n",
      "21           0            False\n",
      "22           0            False\n",
      "23           0            False\n",
      "24           0            False\n",
      "25           0            False\n",
      "26           0            False\n",
      "27           0            False\n",
      "28           0            False\n",
      "29           0            False\n",
      "...        ...              ...\n",
      "509622       1             True\n",
      "509623       1            False\n",
      "509624       1            False\n",
      "509625       1            False\n",
      "509627       1            False\n",
      "509628       1            False\n",
      "509629       1            False\n",
      "509630       1            False\n",
      "509631       1            False\n",
      "509632       1            False\n",
      "509633       1            False\n",
      "509634       1            False\n",
      "509635       1            False\n",
      "509636       1            False\n",
      "509645       1            False\n",
      "509647       1            False\n",
      "509663       1            False\n",
      "509664       1            False\n",
      "509665       1            False\n",
      "509666       1            False\n",
      "509668       1            False\n",
      "509670       1            False\n",
      "509671       1            False\n",
      "509672       1            False\n",
      "509673       1            False\n",
      "509675       1            False\n",
      "509676       1            False\n",
      "509677       1            False\n",
      "509678       1            False\n",
      "509679       1            False\n",
      "\n",
      "[480584 rows x 2 columns]\n",
      "Arrested or not   False  True \n",
      "labels                        \n",
      "0                225556   8848\n",
      "1                238425   7755\n"
     ]
    }
   ],
   "source": [
    "#KMeans Evaluation\n",
    "df = pd.DataFrame({'labels': labels, 'Arrested or not': ri['arrest_made']})\n",
    "\n",
    "print(df)\n",
    "\n",
    "#Cross Tabulation to check meaningful clusters\n",
    "ct = pd.crosstab(df['labels'], df['Arrested or not'])\n",
    "print(ct)"
   ]
  }
 ],
 "metadata": {
  "kernelspec": {
   "display_name": "Python 3",
   "language": "python",
   "name": "python3"
  },
  "language_info": {
   "codemirror_mode": {
    "name": "ipython",
    "version": 3
   },
   "file_extension": ".py",
   "mimetype": "text/x-python",
   "name": "python",
   "nbconvert_exporter": "python",
   "pygments_lexer": "ipython3",
   "version": "3.7.3"
  }
 },
 "nbformat": 4,
 "nbformat_minor": 2
}
