{
 "cells": [
  {
   "cell_type": "code",
   "execution_count": 1,
   "metadata": {},
   "outputs": [],
   "source": [
    "# Must be included at the beginning of each new notebook. Remember to change the app name.\n",
    "import findspark\n",
    "findspark.init('/home/ubuntu/spark-2.1.1-bin-hadoop2.7')\n",
    "import pyspark\n",
    "from pyspark.sql import SparkSession\n",
    "spark = SparkSession.builder.appName('1').getOrCreate()"
   ]
  },
  {
   "cell_type": "code",
   "execution_count": 2,
   "metadata": {},
   "outputs": [],
   "source": [
    "# Importing data.\n",
    "df = spark.read.csv('dataset/ri_statewide_2019_02_25.csv', header=True, inferSchema=True)"
   ]
  },
  {
   "cell_type": "code",
   "execution_count": 3,
   "metadata": {},
   "outputs": [
    {
     "name": "stdout",
     "output_type": "stream",
     "text": [
      "+--------------+----------+--------+----+------------+-----------+-------------+---------+-----------+---------------+--------------+--------+----------------+----------------+------------------+------------------+----------------+---------------+----------------+------------+-----------------+--------------------+------------+-------------+\n",
      "|raw_row_number|      date|    time|zone|subject_race|subject_sex|department_id|     type|arrest_made|citation_issued|warning_issued| outcome|contraband_found|contraband_drugs|contraband_weapons|contraband_alcohol|contraband_other|frisk_performed|search_conducted|search_basis|reason_for_search|     reason_for_stop|vehicle_make|vehicle_model|\n",
      "+--------------+----------+--------+----+------------+-----------+-------------+---------+-----------+---------------+--------------+--------+----------------+----------------+------------------+------------------+----------------+---------------+----------------+------------+-----------------+--------------------+------------+-------------+\n",
      "|             1|2005-11-22|11:15:00|  X3|       white|       male|          200|vehicular|      FALSE|           TRUE|         FALSE|citation|              NA|              NA|                NA|                NA|           false|          FALSE|           FALSE|          NA|               NA|            Speeding|          NA|           NA|\n",
      "|             2|2005-10-01|12:20:00|  X3|       white|       male|          200|vehicular|      FALSE|           TRUE|         FALSE|citation|              NA|              NA|                NA|                NA|           false|          FALSE|           FALSE|          NA|               NA|            Speeding|          NA|           NA|\n",
      "|             3|2005-10-01|12:30:00|  X3|       white|     female|          200|vehicular|      FALSE|           TRUE|         FALSE|citation|              NA|              NA|                NA|                NA|           false|          FALSE|           FALSE|          NA|               NA|            Speeding|          NA|           NA|\n",
      "|             4|2005-10-01|12:50:00|  X3|       white|       male|          200|vehicular|      FALSE|           TRUE|         FALSE|citation|              NA|              NA|                NA|                NA|           false|          FALSE|           FALSE|          NA|               NA|            Speeding|          NA|           NA|\n",
      "|             5|2005-10-01|13:10:00|  X3|       white|     female|          200|vehicular|      FALSE|           TRUE|         FALSE|citation|              NA|              NA|                NA|                NA|           false|          FALSE|           FALSE|          NA|               NA|            Speeding|          NA|           NA|\n",
      "|             6|2005-10-01|15:50:00|  X3|       white|       male|          200|vehicular|      FALSE|           TRUE|         FALSE|citation|              NA|              NA|                NA|                NA|           false|          FALSE|           FALSE|          NA|               NA|Other Traffic Vio...|          NA|           NA|\n",
      "|             7|2005-09-11|11:45:00|  X3|       white|       male|          200|vehicular|      FALSE|           TRUE|         FALSE|citation|              NA|              NA|                NA|                NA|           false|          FALSE|           FALSE|          NA|               NA|            Speeding|          NA|           NA|\n",
      "|             8|2005-09-11|11:45:00|  X3|       white|     female|          200|vehicular|      FALSE|           TRUE|         FALSE|citation|              NA|              NA|                NA|                NA|           false|          FALSE|           FALSE|          NA|               NA|            Speeding|          NA|           NA|\n",
      "|             9|2005-10-04|11:55:00|  X3|    hispanic|       male|          200|vehicular|      FALSE|           TRUE|         FALSE|citation|              NA|              NA|                NA|                NA|           false|          FALSE|           FALSE|          NA|               NA|            Speeding|          NA|           NA|\n",
      "|            10|2005-10-04|11:55:00|  X3|       white|       male|          200|vehicular|      FALSE|           TRUE|         FALSE|citation|              NA|              NA|                NA|                NA|           false|          FALSE|           FALSE|          NA|               NA|            Speeding|          NA|           NA|\n",
      "|            11|2005-10-04|14:28:00|  X3|       white|     female|          200|vehicular|      FALSE|           TRUE|         FALSE|citation|              NA|              NA|                NA|                NA|           false|          FALSE|           FALSE|          NA|               NA|            Speeding|          NA|           NA|\n",
      "|            12|2005-10-04|14:45:00|  X3|       white|       male|          200|vehicular|      FALSE|           TRUE|         FALSE|citation|              NA|              NA|                NA|                NA|           false|          FALSE|           FALSE|          NA|               NA|            Speeding|          NA|           NA|\n",
      "|            13|2005-10-04|15:02:00|  X3|       white|       male|          200|vehicular|      FALSE|           TRUE|         FALSE|citation|              NA|              NA|                NA|                NA|           false|          FALSE|           FALSE|          NA|               NA|            Speeding|          NA|           NA|\n",
      "|            14|2005-10-04|15:35:00|  X3|       white|       male|          200|vehicular|      FALSE|           TRUE|         FALSE|citation|              NA|              NA|                NA|                NA|           false|          FALSE|           FALSE|          NA|               NA|            Speeding|          NA|           NA|\n",
      "|            15|2005-10-10|17:50:00|  X3|       white|       male|          200|vehicular|      FALSE|           TRUE|         FALSE|citation|              NA|              NA|                NA|                NA|           false|          FALSE|           FALSE|          NA|               NA|Other Traffic Vio...|          NA|           NA|\n",
      "|            16|2005-10-10|18:10:00|  X3|       white|     female|          200|vehicular|      FALSE|           TRUE|         FALSE|citation|              NA|              NA|                NA|                NA|           false|          FALSE|           FALSE|          NA|               NA|Other Traffic Vio...|          NA|           NA|\n",
      "|            17|2005-10-10|18:35:00|  X3|       white|       male|          200|vehicular|      FALSE|           TRUE|         FALSE|citation|              NA|              NA|                NA|                NA|           false|          FALSE|           FALSE|          NA|               NA|            Speeding|          NA|           NA|\n",
      "|            18|2005-10-10|19:20:00|  X3|       white|     female|          200|vehicular|      FALSE|           TRUE|         FALSE|citation|              NA|              NA|                NA|                NA|           false|          FALSE|           FALSE|          NA|               NA|            Speeding|          NA|           NA|\n",
      "|            19|2005-10-17|11:55:00|  X3|       white|     female|          200|vehicular|      FALSE|           TRUE|         FALSE|citation|              NA|              NA|                NA|                NA|           false|          FALSE|           FALSE|          NA|               NA|            Speeding|          NA|           NA|\n",
      "|            20|2005-10-17|14:10:00|  X3|       white|     female|          200|vehicular|      FALSE|           TRUE|         FALSE|citation|              NA|              NA|                NA|                NA|           false|          FALSE|           FALSE|          NA|               NA|            Speeding|          NA|           NA|\n",
      "+--------------+----------+--------+----+------------+-----------+-------------+---------+-----------+---------------+--------------+--------+----------------+----------------+------------------+------------------+----------------+---------------+----------------+------------+-----------------+--------------------+------------+-------------+\n",
      "only showing top 20 rows\n",
      "\n"
     ]
    }
   ],
   "source": [
    "#Intial look at the data\n",
    "df.show()"
   ]
  },
  {
   "cell_type": "code",
   "execution_count": 4,
   "metadata": {},
   "outputs": [
    {
     "name": "stdout",
     "output_type": "stream",
     "text": [
      "root\n",
      " |-- raw_row_number: integer (nullable = true)\n",
      " |-- date: string (nullable = true)\n",
      " |-- time: string (nullable = true)\n",
      " |-- zone: string (nullable = true)\n",
      " |-- subject_race: string (nullable = true)\n",
      " |-- subject_sex: string (nullable = true)\n",
      " |-- department_id: string (nullable = true)\n",
      " |-- type: string (nullable = true)\n",
      " |-- arrest_made: string (nullable = true)\n",
      " |-- citation_issued: string (nullable = true)\n",
      " |-- warning_issued: string (nullable = true)\n",
      " |-- outcome: string (nullable = true)\n",
      " |-- contraband_found: string (nullable = true)\n",
      " |-- contraband_drugs: string (nullable = true)\n",
      " |-- contraband_weapons: string (nullable = true)\n",
      " |-- contraband_alcohol: string (nullable = true)\n",
      " |-- contraband_other: boolean (nullable = true)\n",
      " |-- frisk_performed: string (nullable = true)\n",
      " |-- search_conducted: string (nullable = true)\n",
      " |-- search_basis: string (nullable = true)\n",
      " |-- reason_for_search: string (nullable = true)\n",
      " |-- reason_for_stop: string (nullable = true)\n",
      " |-- vehicle_make: string (nullable = true)\n",
      " |-- vehicle_model: string (nullable = true)\n",
      "\n"
     ]
    }
   ],
   "source": [
    "#Print the schema\n",
    "df.printSchema()"
   ]
  },
  {
   "cell_type": "code",
   "execution_count": 5,
   "metadata": {},
   "outputs": [
    {
     "data": {
      "text/plain": [
       "509681"
      ]
     },
     "execution_count": 5,
     "metadata": {},
     "output_type": "execute_result"
    }
   ],
   "source": [
    "#Total number of values\n",
    "df.count()"
   ]
  },
  {
   "cell_type": "code",
   "execution_count": 6,
   "metadata": {},
   "outputs": [
    {
     "name": "stdout",
     "output_type": "stream",
     "text": [
      "+-----------+------+\n",
      "|subject_sex| count|\n",
      "+-----------+------+\n",
      "|         NA| 29097|\n",
      "|     female|131138|\n",
      "|       male|349446|\n",
      "+-----------+------+\n",
      "\n"
     ]
    }
   ],
   "source": [
    "df.groupBy(\"subject_sex\").count().show()"
   ]
  },
  {
   "cell_type": "code",
   "execution_count": 7,
   "metadata": {},
   "outputs": [
    {
     "name": "stdout",
     "output_type": "stream",
     "text": [
      "+----+-----------+-----+\n",
      "|zone|subject_sex|count|\n",
      "+----+-----------+-----+\n",
      "|  X3|     female|26653|\n",
      "|  X3|         NA| 4627|\n",
      "|  X3|       male|62778|\n",
      "|  X4|         NA| 9679|\n",
      "|  X4|       male|94953|\n",
      "|  K3|     female|29097|\n",
      "|  X1|         NA| 3491|\n",
      "|  X1|     female| 2702|\n",
      "|  K3|       male|79771|\n",
      "|  X1|       male|10522|\n",
      "|  K1|         NA| 2252|\n",
      "|  K2|     female|28114|\n",
      "|  K1|       male|32255|\n",
      "|  NA|         NA|   10|\n",
      "|  K3|         NA| 4916|\n",
      "|  K1|     female|13855|\n",
      "|  K2|         NA| 4122|\n",
      "|  X4|     female|30717|\n",
      "|  K2|       male|69167|\n",
      "+----+-----------+-----+\n",
      "\n"
     ]
    }
   ],
   "source": [
    "df.groupBy([\"zone\", \"subject_sex\"]).count().show()"
   ]
  },
  {
   "cell_type": "code",
   "execution_count": 8,
   "metadata": {},
   "outputs": [
    {
     "name": "stdout",
     "output_type": "stream",
     "text": [
      "+-----------+--------------------+------+\n",
      "|subject_sex|     reason_for_stop| count|\n",
      "+-----------+--------------------+------+\n",
      "|     female|Other Traffic Vio...| 17911|\n",
      "|       male|Special Detail/Di...| 12977|\n",
      "|     female|Equipment/Inspect...| 14039|\n",
      "|     female|                 APB|   109|\n",
      "|     female|Violation of City...|   216|\n",
      "|         NA|    Call for Service|     4|\n",
      "|         NA|Equipment/Inspect...|     2|\n",
      "|       male|    Call for Service|  5237|\n",
      "|       male|Registration Viol...| 14181|\n",
      "|       male|            Speeding|182538|\n",
      "|         NA|            Speeding|     8|\n",
      "|       male|Motorist Assist/C...|   657|\n",
      "|       male|   Suspicious Person|   268|\n",
      "|     female|  Seatbelt Violation|  3550|\n",
      "|     female|Registration Viol...|  5649|\n",
      "|       male|Other Traffic Vio...| 72317|\n",
      "|         NA|                  NA| 29073|\n",
      "|     female|   Suspicious Person|    74|\n",
      "|         NA|  Seatbelt Violation|     3|\n",
      "|       male|                 APB|   376|\n",
      "+-----------+--------------------+------+\n",
      "only showing top 20 rows\n",
      "\n"
     ]
    }
   ],
   "source": [
    "df.groupBy([\"subject_sex\", \"reason_for_stop\"]).count().show()"
   ]
  },
  {
   "cell_type": "code",
   "execution_count": 9,
   "metadata": {},
   "outputs": [],
   "source": [
    "#Drop the rows from which subject_sex is missing\n",
    "#Regular dropna wasn't working cuz data is a String \"NA\"\n",
    "df = df.filter(df.subject_sex.endswith('ale'))"
   ]
  },
  {
   "cell_type": "code",
   "execution_count": 10,
   "metadata": {},
   "outputs": [
    {
     "name": "stdout",
     "output_type": "stream",
     "text": [
      "+-----------+------+\n",
      "|subject_sex| count|\n",
      "+-----------+------+\n",
      "|     female|131138|\n",
      "|       male|349446|\n",
      "+-----------+------+\n",
      "\n"
     ]
    }
   ],
   "source": [
    "df.groupBy(\"subject_sex\").count().show()"
   ]
  },
  {
   "cell_type": "code",
   "execution_count": 11,
   "metadata": {},
   "outputs": [
    {
     "name": "stdout",
     "output_type": "stream",
     "text": [
      "+----------------+------+\n",
      "|contraband_found| count|\n",
      "+----------------+------+\n",
      "|           FALSE| 11183|\n",
      "|              NA|462822|\n",
      "|            TRUE|  6579|\n",
      "+----------------+------+\n",
      "\n"
     ]
    }
   ],
   "source": [
    "df.groupBy(\"contraband_found\").count().show()"
   ]
  },
  {
   "cell_type": "code",
   "execution_count": 12,
   "metadata": {},
   "outputs": [
    {
     "data": {
      "text/plain": [
       "480584"
      ]
     },
     "execution_count": 12,
     "metadata": {},
     "output_type": "execute_result"
    }
   ],
   "source": [
    "#total number of values in data BEFORE dropping duplicates\n",
    "df.count()"
   ]
  },
  {
   "cell_type": "code",
   "execution_count": 13,
   "metadata": {},
   "outputs": [],
   "source": [
    "#dropping duplicates from data\n",
    "df = df.dropDuplicates()"
   ]
  },
  {
   "cell_type": "code",
   "execution_count": 14,
   "metadata": {},
   "outputs": [
    {
     "data": {
      "text/plain": [
       "480584"
      ]
     },
     "execution_count": 14,
     "metadata": {},
     "output_type": "execute_result"
    }
   ],
   "source": [
    "#total number of values in data AFTER dropping duplicates\n",
    "df.count()"
   ]
  },
  {
   "cell_type": "code",
   "execution_count": 15,
   "metadata": {},
   "outputs": [
    {
     "name": "stdout",
     "output_type": "stream",
     "text": [
      "root\n",
      " |-- raw_row_number: integer (nullable = true)\n",
      " |-- date: string (nullable = true)\n",
      " |-- time: string (nullable = true)\n",
      " |-- zone: string (nullable = true)\n",
      " |-- subject_race: string (nullable = true)\n",
      " |-- subject_sex: string (nullable = true)\n",
      " |-- department_id: string (nullable = true)\n",
      " |-- type: string (nullable = true)\n",
      " |-- arrest_made: string (nullable = true)\n",
      " |-- citation_issued: string (nullable = true)\n",
      " |-- warning_issued: string (nullable = true)\n",
      " |-- outcome: string (nullable = true)\n",
      " |-- contraband_found: string (nullable = true)\n",
      " |-- contraband_drugs: string (nullable = true)\n",
      " |-- contraband_weapons: string (nullable = true)\n",
      " |-- contraband_alcohol: string (nullable = true)\n",
      " |-- contraband_other: boolean (nullable = true)\n",
      " |-- frisk_performed: string (nullable = true)\n",
      " |-- search_conducted: string (nullable = true)\n",
      " |-- search_basis: string (nullable = true)\n",
      " |-- reason_for_search: string (nullable = true)\n",
      " |-- reason_for_stop: string (nullable = true)\n",
      " |-- vehicle_make: string (nullable = true)\n",
      " |-- vehicle_model: string (nullable = true)\n",
      "\n"
     ]
    }
   ],
   "source": [
    "#For checking what to drop\n",
    "df.printSchema()"
   ]
  },
  {
   "cell_type": "code",
   "execution_count": 16,
   "metadata": {},
   "outputs": [],
   "source": [
    "#Drop Prim keys from data\n",
    "df = df.drop(\"raw_row_number\", \"department_id\")"
   ]
  },
  {
   "cell_type": "code",
   "execution_count": 17,
   "metadata": {},
   "outputs": [
    {
     "name": "stdout",
     "output_type": "stream",
     "text": [
      "root\n",
      " |-- date: string (nullable = true)\n",
      " |-- time: string (nullable = true)\n",
      " |-- zone: string (nullable = true)\n",
      " |-- subject_race: string (nullable = true)\n",
      " |-- subject_sex: string (nullable = true)\n",
      " |-- type: string (nullable = true)\n",
      " |-- arrest_made: string (nullable = true)\n",
      " |-- citation_issued: string (nullable = true)\n",
      " |-- warning_issued: string (nullable = true)\n",
      " |-- outcome: string (nullable = true)\n",
      " |-- contraband_found: string (nullable = true)\n",
      " |-- contraband_drugs: string (nullable = true)\n",
      " |-- contraband_weapons: string (nullable = true)\n",
      " |-- contraband_alcohol: string (nullable = true)\n",
      " |-- contraband_other: boolean (nullable = true)\n",
      " |-- frisk_performed: string (nullable = true)\n",
      " |-- search_conducted: string (nullable = true)\n",
      " |-- search_basis: string (nullable = true)\n",
      " |-- reason_for_search: string (nullable = true)\n",
      " |-- reason_for_stop: string (nullable = true)\n",
      " |-- vehicle_make: string (nullable = true)\n",
      " |-- vehicle_model: string (nullable = true)\n",
      "\n"
     ]
    }
   ],
   "source": [
    "df.printSchema()"
   ]
  },
  {
   "cell_type": "code",
   "execution_count": 18,
   "metadata": {},
   "outputs": [
    {
     "name": "stdout",
     "output_type": "stream",
     "text": [
      "+---------+------+\n",
      "|     type| count|\n",
      "+---------+------+\n",
      "|vehicular|480584|\n",
      "+---------+------+\n",
      "\n"
     ]
    }
   ],
   "source": [
    "#Check feature type\n",
    "df.groupBy(\"type\").count().show()"
   ]
  },
  {
   "cell_type": "code",
   "execution_count": 19,
   "metadata": {},
   "outputs": [],
   "source": [
    "#Drop type feature from data, since it has only one value\n",
    "df = df.drop('type')"
   ]
  },
  {
   "cell_type": "code",
   "execution_count": 20,
   "metadata": {},
   "outputs": [
    {
     "name": "stdout",
     "output_type": "stream",
     "text": [
      "root\n",
      " |-- date: string (nullable = true)\n",
      " |-- time: string (nullable = true)\n",
      " |-- zone: string (nullable = true)\n",
      " |-- subject_race: string (nullable = true)\n",
      " |-- subject_sex: string (nullable = true)\n",
      " |-- arrest_made: string (nullable = true)\n",
      " |-- citation_issued: string (nullable = true)\n",
      " |-- warning_issued: string (nullable = true)\n",
      " |-- outcome: string (nullable = true)\n",
      " |-- contraband_found: string (nullable = true)\n",
      " |-- contraband_drugs: string (nullable = true)\n",
      " |-- contraband_weapons: string (nullable = true)\n",
      " |-- contraband_alcohol: string (nullable = true)\n",
      " |-- contraband_other: boolean (nullable = true)\n",
      " |-- frisk_performed: string (nullable = true)\n",
      " |-- search_conducted: string (nullable = true)\n",
      " |-- search_basis: string (nullable = true)\n",
      " |-- reason_for_search: string (nullable = true)\n",
      " |-- reason_for_stop: string (nullable = true)\n",
      " |-- vehicle_make: string (nullable = true)\n",
      " |-- vehicle_model: string (nullable = true)\n",
      "\n"
     ]
    }
   ],
   "source": [
    "#Checking if type was dropped\n",
    "df.printSchema()"
   ]
  },
  {
   "cell_type": "code",
   "execution_count": 21,
   "metadata": {},
   "outputs": [
    {
     "name": "stdout",
     "output_type": "stream",
     "text": [
      "+--------------------+------+\n",
      "|        subject_race| count|\n",
      "+--------------------+------+\n",
      "|               white|344716|\n",
      "|               black| 68577|\n",
      "|            hispanic| 53123|\n",
      "|       other/unknown|  1344|\n",
      "|asian/pacific isl...| 12824|\n",
      "+--------------------+------+\n",
      "\n"
     ]
    }
   ],
   "source": [
    "df.groupBy(\"subject_race\").count().show()"
   ]
  },
  {
   "cell_type": "code",
   "execution_count": 22,
   "metadata": {},
   "outputs": [
    {
     "name": "stdout",
     "output_type": "stream",
     "text": [
      "+----------------+------+\n",
      "|search_conducted| count|\n",
      "+----------------+------+\n",
      "|           FALSE|462822|\n",
      "|            TRUE| 17762|\n",
      "+----------------+------+\n",
      "\n"
     ]
    }
   ],
   "source": [
    "#NA Values in some fields\n",
    "df.groupBy(\"search_conducted\").count().show()"
   ]
  },
  {
   "cell_type": "code",
   "execution_count": 23,
   "metadata": {},
   "outputs": [
    {
     "name": "stdout",
     "output_type": "stream",
     "text": [
      "+----------------+------+\n",
      "|contraband_found| count|\n",
      "+----------------+------+\n",
      "|           FALSE| 11183|\n",
      "|              NA|462822|\n",
      "|            TRUE|  6579|\n",
      "+----------------+------+\n",
      "\n"
     ]
    }
   ],
   "source": [
    "#NA Values in some fields\n",
    "df.groupBy(\"contraband_found\").count().show()"
   ]
  },
  {
   "cell_type": "code",
   "execution_count": 24,
   "metadata": {},
   "outputs": [],
   "source": [
    "from pyspark.sql.functions import when\n",
    "#Create a new column for contraband_found \n",
    "df = df.withColumn(\"contraband_found_resolved\", when(df.contraband_found == \"NA\", 0).otherwise(1))"
   ]
  },
  {
   "cell_type": "code",
   "execution_count": 25,
   "metadata": {},
   "outputs": [
    {
     "name": "stdout",
     "output_type": "stream",
     "text": [
      "+-------------------------+------+\n",
      "|contraband_found_resolved| count|\n",
      "+-------------------------+------+\n",
      "|                        1| 17762|\n",
      "|                        0|462822|\n",
      "+-------------------------+------+\n",
      "\n"
     ]
    }
   ],
   "source": [
    "#Check newly created column\n",
    "df.groupBy(\"contraband_found_resolved\").count().show()"
   ]
  },
  {
   "cell_type": "code",
   "execution_count": 26,
   "metadata": {},
   "outputs": [
    {
     "name": "stdout",
     "output_type": "stream",
     "text": [
      "root\n",
      " |-- date: string (nullable = true)\n",
      " |-- time: string (nullable = true)\n",
      " |-- zone: string (nullable = true)\n",
      " |-- subject_race: string (nullable = true)\n",
      " |-- subject_sex: string (nullable = true)\n",
      " |-- arrest_made: string (nullable = true)\n",
      " |-- citation_issued: string (nullable = true)\n",
      " |-- warning_issued: string (nullable = true)\n",
      " |-- outcome: string (nullable = true)\n",
      " |-- contraband_found: string (nullable = true)\n",
      " |-- contraband_drugs: string (nullable = true)\n",
      " |-- contraband_weapons: string (nullable = true)\n",
      " |-- contraband_alcohol: string (nullable = true)\n",
      " |-- contraband_other: boolean (nullable = true)\n",
      " |-- frisk_performed: string (nullable = true)\n",
      " |-- search_conducted: string (nullable = true)\n",
      " |-- search_basis: string (nullable = true)\n",
      " |-- reason_for_search: string (nullable = true)\n",
      " |-- reason_for_stop: string (nullable = true)\n",
      " |-- vehicle_make: string (nullable = true)\n",
      " |-- vehicle_model: string (nullable = true)\n",
      " |-- contraband_found_resolved: integer (nullable = false)\n",
      "\n"
     ]
    }
   ],
   "source": [
    "df.printSchema()"
   ]
  },
  {
   "cell_type": "code",
   "execution_count": null,
   "metadata": {
    "scrolled": true
   },
   "outputs": [],
   "source": [
    "from pyspark.sql.functions import to_date\n",
    "#Creating a date time \n",
    "df['new_date'] = df.select(to_date(df.date).alias('date')).collect()"
   ]
  },
  {
   "cell_type": "code",
   "execution_count": null,
   "metadata": {},
   "outputs": [],
   "source": [
    "df.printSchema()"
   ]
  },
  {
   "cell_type": "code",
   "execution_count": null,
   "metadata": {},
   "outputs": [],
   "source": []
  }
 ],
 "metadata": {
  "kernelspec": {
   "display_name": "Python 3",
   "language": "python",
   "name": "python3"
  },
  "language_info": {
   "codemirror_mode": {
    "name": "ipython",
    "version": 3
   },
   "file_extension": ".py",
   "mimetype": "text/x-python",
   "name": "python",
   "nbconvert_exporter": "python",
   "pygments_lexer": "ipython3",
   "version": "3.5.2"
  }
 },
 "nbformat": 4,
 "nbformat_minor": 2
}
